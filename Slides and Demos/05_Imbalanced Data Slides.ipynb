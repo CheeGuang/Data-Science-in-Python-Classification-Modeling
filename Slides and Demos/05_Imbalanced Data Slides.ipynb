{
 "cells": [
  {
   "cell_type": "code",
   "execution_count": 1,
   "id": "e0957113",
   "metadata": {},
   "outputs": [
    {
     "data": {
      "text/html": [
       "<div>\n",
       "<style scoped>\n",
       "    .dataframe tbody tr th:only-of-type {\n",
       "        vertical-align: middle;\n",
       "    }\n",
       "\n",
       "    .dataframe tbody tr th {\n",
       "        vertical-align: top;\n",
       "    }\n",
       "\n",
       "    .dataframe thead th {\n",
       "        text-align: right;\n",
       "    }\n",
       "</style>\n",
       "<table border=\"1\" class=\"dataframe\">\n",
       "  <thead>\n",
       "    <tr style=\"text-align: right;\">\n",
       "      <th></th>\n",
       "      <th>Time</th>\n",
       "      <th>V1</th>\n",
       "      <th>V2</th>\n",
       "      <th>V3</th>\n",
       "      <th>V4</th>\n",
       "      <th>V5</th>\n",
       "      <th>V6</th>\n",
       "      <th>V7</th>\n",
       "      <th>V8</th>\n",
       "      <th>V9</th>\n",
       "      <th>...</th>\n",
       "      <th>V21</th>\n",
       "      <th>V22</th>\n",
       "      <th>V23</th>\n",
       "      <th>V24</th>\n",
       "      <th>V25</th>\n",
       "      <th>V26</th>\n",
       "      <th>V27</th>\n",
       "      <th>V28</th>\n",
       "      <th>Amount</th>\n",
       "      <th>Fraud_Flag</th>\n",
       "    </tr>\n",
       "  </thead>\n",
       "  <tbody>\n",
       "    <tr>\n",
       "      <th>0</th>\n",
       "      <td>0.0</td>\n",
       "      <td>-1.359807</td>\n",
       "      <td>-0.072781</td>\n",
       "      <td>2.536347</td>\n",
       "      <td>1.378155</td>\n",
       "      <td>-0.338321</td>\n",
       "      <td>0.462388</td>\n",
       "      <td>0.239599</td>\n",
       "      <td>0.098698</td>\n",
       "      <td>0.363787</td>\n",
       "      <td>...</td>\n",
       "      <td>-0.018307</td>\n",
       "      <td>0.277838</td>\n",
       "      <td>-0.110474</td>\n",
       "      <td>0.066928</td>\n",
       "      <td>0.128539</td>\n",
       "      <td>-0.189115</td>\n",
       "      <td>0.133558</td>\n",
       "      <td>-0.021053</td>\n",
       "      <td>149.62</td>\n",
       "      <td>0</td>\n",
       "    </tr>\n",
       "    <tr>\n",
       "      <th>1</th>\n",
       "      <td>0.0</td>\n",
       "      <td>1.191857</td>\n",
       "      <td>0.266151</td>\n",
       "      <td>0.166480</td>\n",
       "      <td>0.448154</td>\n",
       "      <td>0.060018</td>\n",
       "      <td>-0.082361</td>\n",
       "      <td>-0.078803</td>\n",
       "      <td>0.085102</td>\n",
       "      <td>-0.255425</td>\n",
       "      <td>...</td>\n",
       "      <td>-0.225775</td>\n",
       "      <td>-0.638672</td>\n",
       "      <td>0.101288</td>\n",
       "      <td>-0.339846</td>\n",
       "      <td>0.167170</td>\n",
       "      <td>0.125895</td>\n",
       "      <td>-0.008983</td>\n",
       "      <td>0.014724</td>\n",
       "      <td>2.69</td>\n",
       "      <td>0</td>\n",
       "    </tr>\n",
       "    <tr>\n",
       "      <th>2</th>\n",
       "      <td>1.0</td>\n",
       "      <td>-1.358354</td>\n",
       "      <td>-1.340163</td>\n",
       "      <td>1.773209</td>\n",
       "      <td>0.379780</td>\n",
       "      <td>-0.503198</td>\n",
       "      <td>1.800499</td>\n",
       "      <td>0.791461</td>\n",
       "      <td>0.247676</td>\n",
       "      <td>-1.514654</td>\n",
       "      <td>...</td>\n",
       "      <td>0.247998</td>\n",
       "      <td>0.771679</td>\n",
       "      <td>0.909412</td>\n",
       "      <td>-0.689281</td>\n",
       "      <td>-0.327642</td>\n",
       "      <td>-0.139097</td>\n",
       "      <td>-0.055353</td>\n",
       "      <td>-0.059752</td>\n",
       "      <td>378.66</td>\n",
       "      <td>0</td>\n",
       "    </tr>\n",
       "    <tr>\n",
       "      <th>3</th>\n",
       "      <td>1.0</td>\n",
       "      <td>-0.966272</td>\n",
       "      <td>-0.185226</td>\n",
       "      <td>1.792993</td>\n",
       "      <td>-0.863291</td>\n",
       "      <td>-0.010309</td>\n",
       "      <td>1.247203</td>\n",
       "      <td>0.237609</td>\n",
       "      <td>0.377436</td>\n",
       "      <td>-1.387024</td>\n",
       "      <td>...</td>\n",
       "      <td>-0.108300</td>\n",
       "      <td>0.005274</td>\n",
       "      <td>-0.190321</td>\n",
       "      <td>-1.175575</td>\n",
       "      <td>0.647376</td>\n",
       "      <td>-0.221929</td>\n",
       "      <td>0.062723</td>\n",
       "      <td>0.061458</td>\n",
       "      <td>123.50</td>\n",
       "      <td>0</td>\n",
       "    </tr>\n",
       "    <tr>\n",
       "      <th>4</th>\n",
       "      <td>2.0</td>\n",
       "      <td>-1.158233</td>\n",
       "      <td>0.877737</td>\n",
       "      <td>1.548718</td>\n",
       "      <td>0.403034</td>\n",
       "      <td>-0.407193</td>\n",
       "      <td>0.095921</td>\n",
       "      <td>0.592941</td>\n",
       "      <td>-0.270533</td>\n",
       "      <td>0.817739</td>\n",
       "      <td>...</td>\n",
       "      <td>-0.009431</td>\n",
       "      <td>0.798278</td>\n",
       "      <td>-0.137458</td>\n",
       "      <td>0.141267</td>\n",
       "      <td>-0.206010</td>\n",
       "      <td>0.502292</td>\n",
       "      <td>0.219422</td>\n",
       "      <td>0.215153</td>\n",
       "      <td>69.99</td>\n",
       "      <td>0</td>\n",
       "    </tr>\n",
       "  </tbody>\n",
       "</table>\n",
       "<p>5 rows × 31 columns</p>\n",
       "</div>"
      ],
      "text/plain": [
       "   Time        V1        V2        V3        V4        V5        V6        V7  \\\n",
       "0   0.0 -1.359807 -0.072781  2.536347  1.378155 -0.338321  0.462388  0.239599   \n",
       "1   0.0  1.191857  0.266151  0.166480  0.448154  0.060018 -0.082361 -0.078803   \n",
       "2   1.0 -1.358354 -1.340163  1.773209  0.379780 -0.503198  1.800499  0.791461   \n",
       "3   1.0 -0.966272 -0.185226  1.792993 -0.863291 -0.010309  1.247203  0.237609   \n",
       "4   2.0 -1.158233  0.877737  1.548718  0.403034 -0.407193  0.095921  0.592941   \n",
       "\n",
       "         V8        V9  ...       V21       V22       V23       V24       V25  \\\n",
       "0  0.098698  0.363787  ... -0.018307  0.277838 -0.110474  0.066928  0.128539   \n",
       "1  0.085102 -0.255425  ... -0.225775 -0.638672  0.101288 -0.339846  0.167170   \n",
       "2  0.247676 -1.514654  ...  0.247998  0.771679  0.909412 -0.689281 -0.327642   \n",
       "3  0.377436 -1.387024  ... -0.108300  0.005274 -0.190321 -1.175575  0.647376   \n",
       "4 -0.270533  0.817739  ... -0.009431  0.798278 -0.137458  0.141267 -0.206010   \n",
       "\n",
       "        V26       V27       V28  Amount  Fraud_Flag  \n",
       "0 -0.189115  0.133558 -0.021053  149.62           0  \n",
       "1  0.125895 -0.008983  0.014724    2.69           0  \n",
       "2 -0.139097 -0.055353 -0.059752  378.66           0  \n",
       "3 -0.221929  0.062723  0.061458  123.50           0  \n",
       "4  0.502292  0.219422  0.215153   69.99           0  \n",
       "\n",
       "[5 rows x 31 columns]"
      ]
     },
     "execution_count": 1,
     "metadata": {},
     "output_type": "execute_result"
    }
   ],
   "source": [
    "import pandas as pd\n",
    "import numpy as np\n",
    "import seaborn as sns\n",
    "import matplotlib.pyplot as plt\n",
    "\n",
    "cc_df = pd.read_csv(\"../Data/creditcard.csv\").rename({\"Class\": \"Fraud_Flag\"}, axis=1)\n",
    "\n",
    "cc_df.head()"
   ]
  },
  {
   "cell_type": "code",
   "execution_count": 2,
   "id": "a7416ccc",
   "metadata": {},
   "outputs": [
    {
     "data": {
      "text/plain": [
       "Fraud_Flag\n",
       "0    284315\n",
       "1       492\n",
       "Name: count, dtype: int64"
      ]
     },
     "execution_count": 2,
     "metadata": {},
     "output_type": "execute_result"
    }
   ],
   "source": [
    "cc_df[\"Fraud_Flag\"].value_counts()"
   ]
  },
  {
   "cell_type": "code",
   "execution_count": 3,
   "id": "ba7b9976",
   "metadata": {},
   "outputs": [
    {
     "data": {
      "text/plain": [
       "Fraud_Flag\n",
       "0    0.998273\n",
       "1    0.001727\n",
       "Name: proportion, dtype: float64"
      ]
     },
     "execution_count": 3,
     "metadata": {},
     "output_type": "execute_result"
    }
   ],
   "source": [
    "cc_df[\"Fraud_Flag\"].value_counts(normalize=True)"
   ]
  },
  {
   "cell_type": "code",
   "execution_count": 4,
   "id": "7bfa721d",
   "metadata": {},
   "outputs": [
    {
     "data": {
      "text/plain": [
       "<Axes: xlabel='Fraud_Flag'>"
      ]
     },
     "execution_count": 4,
     "metadata": {},
     "output_type": "execute_result"
    },
    {
     "data": {
      "image/png": "[encoded data removed]",
      "text/plain": [
       "<Figure size 640x480 with 1 Axes>"
      ]
     },
     "metadata": {},
     "output_type": "display_data"
    }
   ],
   "source": [
    "cc_df[\"Fraud_Flag\"].value_counts(normalize=True).plot.bar()"
   ]
  },
  {
   "cell_type": "code",
   "execution_count": 5,
   "id": "e759ebe6",
   "metadata": {},
   "outputs": [
    {
     "name": "stdout",
     "output_type": "stream",
     "text": [
      "<class 'pandas.core.frame.DataFrame'>\n",
      "RangeIndex: 284807 entries, 0 to 284806\n",
      "Data columns (total 31 columns):\n",
      " #   Column      Non-Null Count   Dtype  \n",
      "---  ------      --------------   -----  \n",
      " 0   Time        284807 non-null  float64\n",
      " 1   V1          284807 non-null  float64\n",
      " 2   V2          284807 non-null  float64\n",
      " 3   V3          284807 non-null  float64\n",
      " 4   V4          284807 non-null  float64\n",
      " 5   V5          284807 non-null  float64\n",
      " 6   V6          284807 non-null  float64\n",
      " 7   V7          284807 non-null  float64\n",
      " 8   V8          284807 non-null  float64\n",
      " 9   V9          284807 non-null  float64\n",
      " 10  V10         284807 non-null  float64\n",
      " 11  V11         284807 non-null  float64\n",
      " 12  V12         284807 non-null  float64\n",
      " 13  V13         284807 non-null  float64\n",
      " 14  V14         284807 non-null  float64\n",
      " 15  V15         284807 non-null  float64\n",
      " 16  V16         284807 non-null  float64\n",
      " 17  V17         284807 non-null  float64\n",
      " 18  V18         284807 non-null  float64\n",
      " 19  V19         284807 non-null  float64\n",
      " 20  V20         284807 non-null  float64\n",
      " 21  V21         284807 non-null  float64\n",
      " 22  V22         284807 non-null  float64\n",
      " 23  V23         284807 non-null  float64\n",
      " 24  V24         284807 non-null  float64\n",
      " 25  V25         284807 non-null  float64\n",
      " 26  V26         284807 non-null  float64\n",
      " 27  V27         284807 non-null  float64\n",
      " 28  V28         284807 non-null  float64\n",
      " 29  Amount      284807 non-null  float64\n",
      " 30  Fraud_Flag  284807 non-null  int64  \n",
      "dtypes: float64(30), int64(1)\n",
      "memory usage: 67.4 MB\n"
     ]
    }
   ],
   "source": [
    "cc_df.info()"
   ]
  },
  {
   "cell_type": "code",
   "execution_count": 6,
   "id": "e933c9be",
   "metadata": {},
   "outputs": [],
   "source": [
    "from sklearn.model_selection import train_test_split\n",
    "\n",
    "\n",
    "X = pd.get_dummies(cc_df.iloc[:, 1:30], dtype=\"int\", drop_first=True)\n",
    "y = cc_df[\"Fraud_Flag\"]\n",
    "\n",
    "\n",
    "X_train, X_test, y_train, y_test = train_test_split(X, y, test_size=0.2, random_state=2023)"
   ]
  },
  {
   "cell_type": "code",
   "execution_count": 7,
   "id": "5b702a37",
   "metadata": {},
   "outputs": [
    {
     "name": "stdout",
     "output_type": "stream",
     "text": [
      "Train Accuracy: 0.9991968224011938\n",
      "Test Accuracy: 0.9991397773954567\n"
     ]
    }
   ],
   "source": [
    "from sklearn.linear_model import LogisticRegression\n",
    "\n",
    "logreg = LogisticRegression(max_iter=1000)\n",
    "\n",
    "lr = logreg.fit(X_train, y_train)\n",
    "\n",
    "print(f\"Train Accuracy: {lr.score(X_train, y_train)}\")\n",
    "print(f\"Test Accuracy: {lr.score(X_test, y_test)}\")"
   ]
  },
  {
   "cell_type": "code",
   "execution_count": 8,
   "id": "ffc3ad14",
   "metadata": {},
   "outputs": [
    {
     "data": {
      "text/plain": [
       "array([[56863,     9],\n",
       "       [   40,    50]])"
      ]
     },
     "execution_count": 8,
     "metadata": {},
     "output_type": "execute_result"
    }
   ],
   "source": [
    "from sklearn.metrics import confusion_matrix, precision_score, recall_score\n",
    "\n",
    "y_pred = lr.predict(X_test)\n",
    "\n",
    "confusion_matrix(y_test, y_pred)"
   ]
  },
  {
   "cell_type": "code",
   "execution_count": 9,
   "id": "a566480a",
   "metadata": {},
   "outputs": [
    {
     "data": {
      "text/plain": [
       "0.847457627118644"
      ]
     },
     "execution_count": 9,
     "metadata": {},
     "output_type": "execute_result"
    }
   ],
   "source": [
    "precision_score(y_test, y_pred)"
   ]
  },
  {
   "cell_type": "code",
   "execution_count": 10,
   "id": "49fafaaa",
   "metadata": {},
   "outputs": [
    {
     "data": {
      "text/plain": [
       "0.5555555555555556"
      ]
     },
     "execution_count": 10,
     "metadata": {},
     "output_type": "execute_result"
    }
   ],
   "source": [
    "recall_score(y_test, y_pred)"
   ]
  },
  {
   "cell_type": "code",
   "execution_count": 11,
   "id": "31e9fd5d",
   "metadata": {},
   "outputs": [
    {
     "data": {
      "image/png": "[encoded data removed]",
      "text/plain": [
       "<Figure size 640x480 with 1 Axes>"
      ]
     },
     "metadata": {},
     "output_type": "display_data"
    }
   ],
   "source": [
    "from sklearn.metrics import precision_recall_curve\n",
    "\n",
    "p_curve, r_curve, t_curve = precision_recall_curve(y_train, lr.predict_proba(X_train)[:,1])\n",
    "\n",
    "# p_r_curve = pd.DataFrame({\"precision\": p_curve, \"recall\": r_curve, \"threshold\": t_curve})\n",
    "from sklearn.metrics import precision_recall_curve\n",
    "import matplotlib.pyplot as plt\n",
    "\n",
    "plt.plot(t_curve, p_curve[:-1], label='Precision')\n",
    "plt.plot(t_curve, r_curve[:-1], label='Recall')\n",
    "plt.xlabel('Prediction Threshold')\n",
    "plt.ylabel('Scores')\n",
    "plt.legend()\n",
    "plt.title('Precision-Recall Curve')\n",
    "# plt.grid(True)\n",
    "plt.show()"
   ]
  },
  {
   "cell_type": "code",
   "execution_count": 12,
   "id": "fa64bb4e",
   "metadata": {},
   "outputs": [
    {
     "data": {
      "image/png": "[encoded data removed]",
      "text/plain": [
       "<Figure size 640x480 with 2 Axes>"
      ]
     },
     "metadata": {},
     "output_type": "display_data"
    }
   ],
   "source": [
    "import seaborn as sns\n",
    "from sklearn.metrics import confusion_matrix\n",
    "\n",
    "y_pred = lr.predict(X_train)\n",
    "\n",
    "knn_confusion = confusion_matrix(y_train, y_pred)\n",
    "\n",
    "sns.heatmap(\n",
    "    knn_confusion, \n",
    "    cmap=\"Blues\",  \n",
    "    annot=True, \n",
    "    fmt=\"g\",\n",
    "    square=True,\n",
    "    xticklabels=[\"No Fraud\", \"Fraud\"],        \n",
    "    yticklabels=[\"No Fraud\", \"Fraud\"]\n",
    ").set(\n",
    "    xlabel='Predicted Fraud',\n",
    "    ylabel='Actual Fruad',\n",
    "    title='Fraud Model Confusion Matrix'\n",
    ");"
   ]
  },
  {
   "cell_type": "code",
   "execution_count": 13,
   "id": "cce3d171",
   "metadata": {},
   "outputs": [
    {
     "name": "stdout",
     "output_type": "stream",
     "text": [
      "Training Precision: 0.87\n",
      "Training Recall: 0.64\n"
     ]
    }
   ],
   "source": [
    "print(f\"Training Precision: {round(precision_score(y_train, y_pred), 2)}\")\n",
    "print(f\"Training Recall: {round(recall_score(y_train, y_pred), 2)}\")"
   ]
  },
  {
   "cell_type": "code",
   "execution_count": 14,
   "id": "334a1465",
   "metadata": {},
   "outputs": [
    {
     "name": "stdout",
     "output_type": "stream",
     "text": [
      "Training Recall: 0.6368159203980099\n"
     ]
    }
   ],
   "source": [
    "print(f\"Training Recall: {recall_score(y_train, y_pred)}\")"
   ]
  },
  {
   "cell_type": "code",
   "execution_count": 16,
   "id": "f81e8bb6",
   "metadata": {},
   "outputs": [
    {
     "name": "stderr",
     "output_type": "stream",
     "text": [
      "\n",
      "KeyboardInterrupt\n",
      "\n"
     ]
    }
   ],
   "source": [
    "from sklearn.metrics import f1_score\n",
    "\n",
    "y_probs = lr.predict_proba(X_train)[:, 1] \n",
    "thresholds = t_curve\n",
    "f1_scores = [f1_score(y_train, (y_probs >= threshold)) for threshold in thresholds]\n",
    "\n",
    "plt.figure(figsize=(8, 6))\n",
    "plt.plot(thresholds, f1_scores, label=\"F1\")\n",
    "plt.plot(t_curve, p_curve[:-1], label='Precision')\n",
    "plt.plot(t_curve, r_curve[:-1], label='Recall')\n",
    "plt.xlabel('Threshold')\n",
    "plt.ylabel('Metric Score')\n",
    "plt.title('F1, Precision & Recall vs. Threshold')\n",
    "plt.show()"
   ]
  },
  {
   "cell_type": "code",
   "execution_count": null,
   "id": "e6393380",
   "metadata": {},
   "outputs": [],
   "source": [
    "np.array(f1_scores).argmax()"
   ]
  },
  {
   "cell_type": "code",
   "execution_count": null,
   "id": "9c37a4ce",
   "metadata": {},
   "outputs": [],
   "source": [
    "import seaborn as sns\n",
    "from sklearn.metrics import confusion_matrix\n",
    "\n",
    "y_pred = lr.predict_proba(X_train)[:, 1] > .103\n",
    "\n",
    "knn_confusion = confusion_matrix(y_train, y_pred)\n",
    "\n",
    "sns.heatmap(\n",
    "    knn_confusion, \n",
    "    cmap=\"Blues\",  \n",
    "    annot=True, \n",
    "    fmt=\"g\",\n",
    "    square=True,\n",
    "    xticklabels=[\"No Fraud\", \"Fraud\"],        \n",
    "    yticklabels=[\"No Fraud\", \"Fraud\"]\n",
    ").set(\n",
    "    xlabel='Predicted Fraud',\n",
    "    ylabel='Actual Fraud',\n",
    "    title='Fraud Model Confusion Matrix'\n",
    ");"
   ]
  },
  {
   "cell_type": "code",
   "execution_count": null,
   "id": "55732607",
   "metadata": {},
   "outputs": [],
   "source": [
    "plt.figure(figsize=(8, 6))\n",
    "plt.plot(thresholds, f1_scores, label=\"F1\")\n",
    "plt.plot(t_curve, p_curve[:-1], label='Precision')\n",
    "plt.plot(t_curve, r_curve[:-1], label='Recall')\n",
    "plt.legend()\n",
    "plt.xlabel('Threshold')\n",
    "plt.ylabel('Metric Score')\n",
    "plt.title('F1, Precision & Recall vs. Threshold')\n",
    "plt.show()"
   ]
  },
  {
   "cell_type": "code",
   "execution_count": null,
   "id": "50ae8221",
   "metadata": {},
   "outputs": [],
   "source": [
    "# default equal weight model\n",
    "lr = LogisticRegression(max_iter=1000)\n",
    "\n",
    "# rebalance the weighting so the 'total' weight of each class is equal\n",
    "lr_balanced = LogisticRegression(class_weight='balanced', max_iter=1000) \n",
    "\n",
    "# intermediate weight (minority class has 4x weight of majority)\n",
    "lr_4x = LogisticRegression(class_weight={1: 4, 0: 1}, max_iter=1000)"
   ]
  },
  {
   "cell_type": "code",
   "execution_count": null,
   "id": "f10493ab",
   "metadata": {},
   "outputs": [],
   "source": [
    "# equally weighted model (default) \n",
    "lr.fit(X_train, y_train)\n",
    "\n",
    "# multiplies minority by common:rare ratio\n",
    "lr_balanced.fit(X_train, y_train)\n",
    "\n",
    "# intermediate weight (4x minority)\n",
    "lr_4x.fit(X_train, y_train)"
   ]
  },
  {
   "cell_type": "code",
   "execution_count": null,
   "id": "ee666c51",
   "metadata": {},
   "outputs": [],
   "source": [
    "f1_score(y_test, lr.predict(X_test))"
   ]
  },
  {
   "cell_type": "code",
   "execution_count": null,
   "id": "ea88a6d7",
   "metadata": {},
   "outputs": [],
   "source": [
    "f1_score(y_test, lr_balanced.predict(X_test))"
   ]
  },
  {
   "cell_type": "code",
   "execution_count": null,
   "id": "2eb97c63",
   "metadata": {},
   "outputs": [],
   "source": [
    "f1_score(y_test, lr_4x.predict(X_test))"
   ]
  },
  {
   "cell_type": "code",
   "execution_count": null,
   "id": "7549b2b7",
   "metadata": {},
   "outputs": [],
   "source": [
    "from sklearn.metrics import roc_curve, auc\n",
    "\n",
    "y_probs = lr_4x.predict_proba(X_test)[:, 1]\n",
    "\n",
    "fpr, tpr, thresholds = roc_curve(y_test, y_probs)\n",
    "\n",
    "auc_score = auc(fpr, tpr)\n",
    "\n",
    "auc_score"
   ]
  },
  {
   "cell_type": "code",
   "execution_count": null,
   "id": "1887e11c",
   "metadata": {},
   "outputs": [],
   "source": [
    "lr_4x.score(X_test, y_test)"
   ]
  },
  {
   "cell_type": "code",
   "execution_count": null,
   "id": "cc1dadd8",
   "metadata": {},
   "outputs": [],
   "source": [
    "import imblearn.over_sampling as OS\n",
    "\n",
    "n_pos = np.sum(y_train == 1)\n",
    "n_neg = np.sum(y_train == 0)\n",
    "\n",
    "# create 4x as many positive samples\n",
    "ratio = {1 : n_pos * 4, 0 : n_neg}\n",
    "\n",
    "# randomly oversample positives\n",
    "ROS = OS.RandomOverSampler(\n",
    "    sampling_strategy = ratio,\n",
    "    random_state=2023\n",
    ")\n",
    "\n",
    "X_train_rs, y_train_rs = ROS.fit_resample(X_train, y_train)\n",
    "\n",
    "print(f\"Original Positive Class Count: {np.sum(y_train)}\")\n",
    "print(f\"Oversample Positive Class Count: {np.sum(y_train_rs)}\")"
   ]
  },
  {
   "cell_type": "code",
   "execution_count": null,
   "id": "61a4acf8",
   "metadata": {},
   "outputs": [],
   "source": [
    "lr.fit(X_train, y_train)\n",
    "\n",
    "print(f\"Original Test F1: {f1_score(y_test, lr.predict(X_test))}\")"
   ]
  },
  {
   "cell_type": "code",
   "execution_count": null,
   "id": "96865304",
   "metadata": {},
   "outputs": [],
   "source": [
    "lr.fit(X_train_rs, y_train_rs)\n",
    "\n",
    "print(f\"Oversampled Test F1: {f1_score(y_test, lr.predict(X_test))}\")"
   ]
  },
  {
   "cell_type": "code",
   "execution_count": null,
   "id": "ae7cc9ee",
   "metadata": {},
   "outputs": [],
   "source": [
    "np.sum(y_train_rs)"
   ]
  },
  {
   "cell_type": "code",
   "execution_count": null,
   "id": "54ba7edd",
   "metadata": {},
   "outputs": [],
   "source": [
    "len(y_train_rs)"
   ]
  },
  {
   "cell_type": "code",
   "execution_count": null,
   "id": "f3739c65",
   "metadata": {},
   "outputs": [],
   "source": [
    "import imblearn.under_sampling as US\n",
    "\n",
    "# Define Minority Class %\n",
    "minority_pct = .30\n",
    "\n",
    "# randomly undersample negative samples: \n",
    "RUS = US.RandomUnderSampler(\n",
    "                   sampling_strategy = (minority_pct)/(1 - minority_pct),\n",
    "                   random_state=2023\n",
    ")\n",
    "\n",
    "X_train_rs, y_train_rs = RUS.fit_resample(X_train, y_train)\n",
    "\n",
    "print(f\"Original Negative Class Count: {np.mean(y_train)}\")\n",
    "print(f\"Undersample Negative Class Count: {np.mean(y_train_rs)}\")"
   ]
  },
  {
   "cell_type": "code",
   "execution_count": null,
   "id": "b1fd3ffc",
   "metadata": {},
   "outputs": [],
   "source": [
    "lr.fit(X_train, y_train)\n",
    "\n",
    "print(f\"Original Test F1: {f1_score(y_test, lr.predict(X_test))}\")"
   ]
  },
  {
   "cell_type": "code",
   "execution_count": null,
   "id": "7d1b87be",
   "metadata": {},
   "outputs": [],
   "source": [
    "lr.fit(X_train_rs, y_train_rs)\n",
    "\n",
    "print(f\"Oversampled Test F1: {f1_score(y_test, lr.predict(X_test))}\")"
   ]
  },
  {
   "cell_type": "code",
   "execution_count": null,
   "id": "190e773a",
   "metadata": {},
   "outputs": [],
   "source": [
    "import imblearn.over_sampling\n",
    "\n",
    "n_pos = np.sum(y_train == 1)\n",
    "n_neg = np.sum(y_train == 0)\n",
    "\n",
    "# create 4x as many positive samples\n",
    "ratio = {1 : n_pos * 4, 0 : n_neg}\n",
    "\n",
    "# SMOTE oversampling for positives\n",
    "smt = imblearn.over_sampling.SMOTE(\n",
    "    sampling_strategy = ratio,\n",
    "    random_state=2023\n",
    ")\n",
    "\n",
    "X_train_rs, y_train_rs = smt.fit_resample(X_train, y_train)"
   ]
  },
  {
   "cell_type": "code",
   "execution_count": null,
   "id": "670274a6",
   "metadata": {},
   "outputs": [],
   "source": [
    "lr.fit(X_train, y_train)\n",
    "\n",
    "print(f\"Original F1: {f1_score(y_test, lr.predict(X_test))}\")"
   ]
  },
  {
   "cell_type": "code",
   "execution_count": null,
   "id": "ce4f9cdc",
   "metadata": {},
   "outputs": [],
   "source": [
    "lr.fit(X_train_rs, y_train_rs)\n",
    "\n",
    "print(f\"SMOTE F1: {f1_score(y_test, lr.predict(X_test))}\")"
   ]
  },
  {
   "cell_type": "code",
   "execution_count": null,
   "id": "63d3bf19",
   "metadata": {},
   "outputs": [],
   "source": [
    "import numpy as np\n",
    "\n",
    "np.array([[20, 5], [5, 20]])"
   ]
  },
  {
   "cell_type": "code",
   "execution_count": null,
   "id": "9121338b",
   "metadata": {},
   "outputs": [],
   "source": []
  }
 ],
 "metadata": {
  "kernelspec": {
   "display_name": "Python 3 (ipykernel)",
   "language": "python",
   "name": "python3"
  },
  "language_info": {
   "codemirror_mode": {
    "name": "ipython",
    "version": 3
   },
   "file_extension": ".py",
   "mimetype": "text/x-python",
   "name": "python",
   "nbconvert_exporter": "python",
   "pygments_lexer": "ipython3",
   "version": "3.11.5"
  }
 },
 "nbformat": 4,
 "nbformat_minor": 5
}
