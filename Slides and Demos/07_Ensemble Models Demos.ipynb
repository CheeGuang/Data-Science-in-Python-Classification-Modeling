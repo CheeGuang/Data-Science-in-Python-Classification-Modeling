{
 "cells": [
  {
   "cell_type": "code",
   "execution_count": 1,
   "id": "464ff950",
   "metadata": {},
   "outputs": [
    {
     "name": "stdout",
     "output_type": "stream",
     "text": [
      "<class 'pandas.core.frame.DataFrame'>\n",
      "RangeIndex: 148670 entries, 0 to 148669\n",
      "Data columns (total 34 columns):\n",
      " #   Column                     Non-Null Count   Dtype  \n",
      "---  ------                     --------------   -----  \n",
      " 0   ID                         148670 non-null  int64  \n",
      " 1   year                       148670 non-null  int64  \n",
      " 2   loan_limit                 145326 non-null  object \n",
      " 3   Gender                     148670 non-null  object \n",
      " 4   approv_in_adv              147762 non-null  object \n",
      " 5   loan_type                  148670 non-null  object \n",
      " 6   loan_purpose               148536 non-null  object \n",
      " 7   Credit_Worthiness          148670 non-null  object \n",
      " 8   open_credit                148670 non-null  object \n",
      " 9   business_or_commercial     148670 non-null  object \n",
      " 10  loan_amount                148670 non-null  int64  \n",
      " 11  rate_of_interest           112231 non-null  float64\n",
      " 12  Interest_rate_spread       112031 non-null  float64\n",
      " 13  Upfront_charges            109028 non-null  float64\n",
      " 14  term                       148629 non-null  float64\n",
      " 15  Neg_ammortization          148549 non-null  object \n",
      " 16  interest_only              148670 non-null  object \n",
      " 17  lump_sum_payment           148670 non-null  object \n",
      " 18  property_value             133572 non-null  float64\n",
      " 19  construction_type          148670 non-null  object \n",
      " 20  occupancy_type             148670 non-null  object \n",
      " 21  Secured_by                 148670 non-null  object \n",
      " 22  total_units                148670 non-null  object \n",
      " 23  income                     139520 non-null  float64\n",
      " 24  credit_type                148670 non-null  object \n",
      " 25  Credit_Score               148670 non-null  int64  \n",
      " 26  co-applicant_credit_type   148670 non-null  object \n",
      " 27  age                        148470 non-null  object \n",
      " 28  submission_of_application  148470 non-null  object \n",
      " 29  LTV                        133572 non-null  float64\n",
      " 30  Region                     148670 non-null  object \n",
      " 31  Security_Type              148670 non-null  object \n",
      " 32  Status                     148670 non-null  int64  \n",
      " 33  dtir1                      124549 non-null  float64\n",
      "dtypes: float64(8), int64(5), object(21)\n",
      "memory usage: 38.6+ MB\n"
     ]
    }
   ],
   "source": [
    "import pandas as pd\n",
    "import numpy as np\n",
    "import seaborn as sns\n",
    "import matplotlib.pyplot as plt\n",
    "\n",
    "loan_df = pd.read_csv(\"../Data/Loan_Default.csv\")\n",
    "\n",
    "loan_df.info()"
   ]
  },
  {
   "cell_type": "code",
   "execution_count": 2,
   "id": "e0cc0de2",
   "metadata": {},
   "outputs": [
    {
     "name": "stdout",
     "output_type": "stream",
     "text": [
      "<class 'pandas.core.frame.DataFrame'>\n",
      "RangeIndex: 148670 entries, 0 to 148669\n",
      "Data columns (total 29 columns):\n",
      " #   Column                     Non-Null Count   Dtype  \n",
      "---  ------                     --------------   -----  \n",
      " 0   loan_limit                 145326 non-null  object \n",
      " 1   Gender                     148670 non-null  object \n",
      " 2   approv_in_adv              147762 non-null  object \n",
      " 3   loan_type                  148670 non-null  object \n",
      " 4   loan_purpose               148536 non-null  object \n",
      " 5   Credit_Worthiness          148670 non-null  object \n",
      " 6   business_or_commercial     148670 non-null  object \n",
      " 7   loan_amount                148670 non-null  int64  \n",
      " 8   rate_of_interest           148670 non-null  float64\n",
      " 9   Interest_rate_spread       112031 non-null  float64\n",
      " 10  Upfront_charges            109028 non-null  float64\n",
      " 11  term                       148629 non-null  float64\n",
      " 12  Neg_ammortization          148549 non-null  object \n",
      " 13  interest_only              148670 non-null  object \n",
      " 14  lump_sum_payment           148670 non-null  object \n",
      " 15  property_value             133572 non-null  float64\n",
      " 16  occupancy_type             148670 non-null  object \n",
      " 17  total_units                148670 non-null  object \n",
      " 18  income                     148670 non-null  float64\n",
      " 19  credit_type                148670 non-null  object \n",
      " 20  Credit_Score               148670 non-null  int64  \n",
      " 21  co-applicant_credit_type   148670 non-null  object \n",
      " 22  age                        148470 non-null  object \n",
      " 23  submission_of_application  148470 non-null  object \n",
      " 24  LTV                        133572 non-null  float64\n",
      " 25  Region                     148670 non-null  object \n",
      " 26  Status                     148670 non-null  int64  \n",
      " 27  dtir1                      124549 non-null  float64\n",
      " 28  loan_amt_v_income          148670 non-null  float64\n",
      "dtypes: float64(9), int64(3), object(17)\n",
      "memory usage: 32.9+ MB\n"
     ]
    }
   ],
   "source": [
    "loan_df[\"income\"] = loan_df[\"income\"].fillna(loan_df[\"income\"].mean())\n",
    "loan_df[\"loan_amount\"] = loan_df[\"loan_amount\"].fillna(loan_df[\"loan_amount\"].mean())\n",
    "loan_df[\"rate_of_interest\"] = loan_df[\"rate_of_interest\"].fillna(loan_df[\"rate_of_interest\"].mean())\n",
    "loan_df[\"approv_in_adv\"] = loan_df[\"approv_in_adv\"].fillna(loan_df[\"approv_in_adv\"].mode())\n",
    "\n",
    "prep_loan_df = loan_df.assign(\n",
    "    total_units = loan_df[\"total_units\"].map({\n",
    "        \"1U\": \"1U\",\n",
    "        \"2U\": \"2U+\",\n",
    "        \"3U\": \"2U+\",\n",
    "        \"4U\": \"2U+\"}),\n",
    "    loan_amt_v_income = loan_df[\"loan_amount\"]/loan_df[\"income\"]\n",
    ").drop([\n",
    "    \"year\", \n",
    "     \"ID\", \n",
    "     \"open_credit\", \n",
    "    \"construction_type\", \n",
    "    \"Security_Type\",\n",
    "    \"Secured_by\"], \n",
    "    axis=1\n",
    ")\n",
    "\n",
    "prep_loan_df.info()"
   ]
  },
  {
   "cell_type": "code",
   "execution_count": 3,
   "id": "b663fde5",
   "metadata": {},
   "outputs": [],
   "source": [
    "from sklearn.model_selection import train_test_split\n",
    "\n",
    "features = [\n",
    "    \"loan_amount\", \n",
    "    \"income\", \n",
    "    \"Gender\",\n",
    "#     \"rate_of_interest\",\n",
    "    \"age\",\n",
    "    \"lump_sum_payment\",\n",
    "    \"credit_type\",\n",
    "    \"total_units\",\n",
    "    \"Credit_Worthiness\",\n",
    "    \"Credit_Score\",\n",
    "    \"approv_in_adv\", \n",
    "\n",
    "]\n",
    "\n",
    "X = pd.get_dummies(prep_loan_df[features], drop_first=True)\n",
    "y = prep_loan_df[\"Status\"]\n",
    "\n",
    "X_train, X_test, y_train, y_test = train_test_split(X, y, test_size=.2, random_state=12345)"
   ]
  },
  {
   "cell_type": "code",
   "execution_count": 4,
   "id": "3455b5ac",
   "metadata": {},
   "outputs": [],
   "source": [
    "from sklearn.preprocessing import StandardScaler\n",
    "\n",
    "std = StandardScaler()\n",
    "\n",
    "X_train_std = std.fit_transform(X_train)\n",
    "X_test_std = std.transform(X_test)"
   ]
  },
  {
   "cell_type": "code",
   "execution_count": 5,
   "id": "ff457ff4",
   "metadata": {},
   "outputs": [
    {
     "name": "stdout",
     "output_type": "stream",
     "text": [
      "Train Accuracy: 0.8611690320844824\n",
      "Test Accuracy: 0.8617743996771373\n"
     ]
    }
   ],
   "source": [
    "from sklearn.neighbors import KNeighborsClassifier\n",
    "\n",
    "knn = KNeighborsClassifier(n_neighbors=49, metric=\"manhattan\")\n",
    "\n",
    "knn.fit(X_train_std, y_train)\n",
    "\n",
    "print(f\"Train Accuracy: {knn.score(X_train_std, y_train)}\")\n",
    "print(f\"Test Accuracy: {knn.score(X_test_std, y_test)}\")"
   ]
  },
  {
   "cell_type": "code",
   "execution_count": 6,
   "id": "3c97b55d",
   "metadata": {},
   "outputs": [
    {
     "name": "stdout",
     "output_type": "stream",
     "text": [
      "Train Accuracy: 0.8607402300396853\n",
      "Test Accuracy: 0.86211071500639\n"
     ]
    }
   ],
   "source": [
    "from sklearn.linear_model import LogisticRegression\n",
    "\n",
    "logreg = LogisticRegression(C=.6, penalty=\"l1\", solver=\"saga\", max_iter=1000) \n",
    "\n",
    "lr = logreg.fit(X_train_std, y_train)\n",
    "\n",
    "print(f\"Train Accuracy: {lr.score(X_train_std, y_train)}\")\n",
    "print(f\"Test Accuracy: {lr.score(X_test_std, y_test)}\")"
   ]
  },
  {
   "cell_type": "code",
   "execution_count": 7,
   "id": "48798785",
   "metadata": {},
   "outputs": [
    {
     "name": "stdout",
     "output_type": "stream",
     "text": [
      "Train Accuracy: 0.869\n",
      "Test Accuracy: 0.867\n"
     ]
    }
   ],
   "source": [
    "from sklearn.tree import DecisionTreeClassifier\n",
    "\n",
    "dt = DecisionTreeClassifier(max_depth=10, min_samples_leaf=10)\n",
    "\n",
    "dt.fit(X_train_std, y_train)\n",
    "\n",
    "print(f\"Train Accuracy: {round(dt.score(X_train_std, y_train), 3)}\")\n",
    "print(f\"Test Accuracy: {round(dt.score(X_test_std, y_test), 3)}\")"
   ]
  },
  {
   "cell_type": "code",
   "execution_count": 8,
   "id": "f6a20441",
   "metadata": {},
   "outputs": [
    {
     "data": {
      "text/plain": [
       "0.8619761888746889"
      ]
     },
     "execution_count": 8,
     "metadata": {},
     "output_type": "execute_result"
    }
   ],
   "source": [
    "from sklearn.ensemble import VotingClassifier\n",
    "\n",
    "model = VotingClassifier(estimators=[\n",
    "    ('lr', lr), \n",
    "    ('dt', dt),\n",
    "    ('knn', knn)], \n",
    "    voting='hard'\n",
    ")\n",
    "\n",
    "model.fit(X_train_std, y_train)\n",
    "model.score(X_test_std,y_test)"
   ]
  },
  {
   "cell_type": "code",
   "execution_count": 9,
   "id": "f7695c47",
   "metadata": {},
   "outputs": [
    {
     "data": {
      "text/plain": [
       "0.862615188000269"
      ]
     },
     "execution_count": 9,
     "metadata": {},
     "output_type": "execute_result"
    }
   ],
   "source": [
    "from sklearn.ensemble import VotingClassifier\n",
    "\n",
    "model = VotingClassifier(estimators=[\n",
    "    ('lr', lr), \n",
    "    ('dt', dt),\n",
    "    ('knn', knn)], \n",
    "    voting='soft'\n",
    ")\n",
    "\n",
    "model.fit(X_train_std, y_train)\n",
    "model.score(X_test_std,y_test)"
   ]
  },
  {
   "cell_type": "code",
   "execution_count": 10,
   "id": "16ac95ce",
   "metadata": {},
   "outputs": [
    {
     "name": "stdout",
     "output_type": "stream",
     "text": [
      "Training Accuracy: 0.8673488262595009\n",
      "Test Accuracy: 0.8657765520952445\n"
     ]
    }
   ],
   "source": [
    "from sklearn.ensemble import RandomForestClassifier\n",
    "\n",
    "rf = RandomForestClassifier(random_state=2023, max_depth=10)\n",
    "\n",
    "rf.fit(X_train, y_train)\n",
    "\n",
    "print(f\"Training Accuracy: {rf.score(X_train, y_train)}\")\n",
    "print(f\"Test Accuracy: {rf.score(X_test, y_test)}\")"
   ]
  },
  {
   "cell_type": "code",
   "execution_count": 11,
   "id": "334a7560",
   "metadata": {},
   "outputs": [
    {
     "data": {
      "image/png": "[encoded data removed]",
      "text/plain": [
       "<Figure size 640x480 with 1 Axes>"
      ]
     },
     "metadata": {},
     "output_type": "display_data"
    }
   ],
   "source": [
    "import seaborn as sns\n",
    "\n",
    "sns.barplot(x=rf.feature_importances_, y=X.columns, color=\"blue\");"
   ]
  },
  {
   "cell_type": "code",
   "execution_count": 12,
   "id": "19b41b90",
   "metadata": {},
   "outputs": [
    {
     "name": "stderr",
     "output_type": "stream",
     "text": [
      "/Users/chrisb/anaconda3/lib/python3.11/site-packages/sklearn/model_selection/_validation.py:425: FitFailedWarning: \n",
      "200 fits failed out of a total of 500.\n",
      "The score on these train-test partitions for these parameters will be set to nan.\n",
      "If these failures are not expected, you can try to debug them by setting error_score='raise'.\n",
      "\n",
      "Below are more details about the failures:\n",
      "--------------------------------------------------------------------------------\n",
      "200 fits failed with the following error:\n",
      "Traceback (most recent call last):\n",
      "  File \"/Users/chrisb/anaconda3/lib/python3.11/site-packages/sklearn/model_selection/_validation.py\", line 732, in _fit_and_score\n",
      "    estimator.fit(X_train, y_train, **fit_params)\n",
      "  File \"/Users/chrisb/anaconda3/lib/python3.11/site-packages/sklearn/base.py\", line 1151, in wrapper\n",
      "    return fit_method(estimator, *args, **kwargs)\n",
      "           ^^^^^^^^^^^^^^^^^^^^^^^^^^^^^^^^^^^^^^\n",
      "  File \"/Users/chrisb/anaconda3/lib/python3.11/site-packages/sklearn/ensemble/_forest.py\", line 402, in fit\n",
      "    raise ValueError(\n",
      "ValueError: `max_sample` cannot be set if `bootstrap=False`. Either switch to `bootstrap=True` or set `max_sample=None`.\n",
      "\n",
      "  warnings.warn(some_fits_failed_message, FitFailedWarning)\n",
      "/Users/chrisb/anaconda3/lib/python3.11/site-packages/sklearn/model_selection/_search.py:976: UserWarning: One or more of the test scores are non-finite: [0.8671218  0.86044594        nan        nan 0.85669603 0.86633147\n",
      " 0.86071499 0.86436401        nan 0.86428834 0.8674413  0.86524685\n",
      "        nan 0.86420426 0.86480122        nan 0.86260677 0.86419585\n",
      " 0.75472523 0.86429675        nan 0.86414541        nan 0.85667921\n",
      " 0.86600357        nan 0.86404452        nan 0.86507028 0.86071499\n",
      " 0.86722269 0.86443968 0.86607922 0.86720588 0.86144648 0.85662877\n",
      "        nan        nan 0.75473364 0.86494416 0.85664558 0.86601196\n",
      " 0.86536457 0.85636812        nan        nan 0.86011803 0.86092519\n",
      "        nan        nan 0.86497778 0.86671823 0.86504505 0.867332\n",
      "        nan 0.86118583 0.86092519 0.86576813 0.86318691 0.86702932\n",
      " 0.86720588 0.86537296        nan        nan        nan        nan\n",
      "        nan        nan 0.86484326 0.85658673 0.86092519 0.8596472\n",
      " 0.85653628        nan 0.86500301        nan        nan        nan\n",
      "        nan 0.86713862 0.86448172 0.86459943 0.86723951        nan\n",
      " 0.86092519        nan        nan        nan        nan        nan\n",
      "        nan        nan        nan        nan        nan        nan\n",
      " 0.86462465 0.86707136        nan 0.75558284]\n",
      "  warnings.warn(\n"
     ]
    },
    {
     "data": {
      "text/plain": [
       "{'n_estimators': 600,\n",
       " 'min_samples_leaf': 5,\n",
       " 'max_samples': None,\n",
       " 'max_features': None,\n",
       " 'max_depth': 8,\n",
       " 'bootstrap': True}"
      ]
     },
     "execution_count": 12,
     "metadata": {},
     "output_type": "execute_result"
    }
   ],
   "source": [
    "from sklearn.model_selection import RandomizedSearchCV\n",
    "      \n",
    "rf = RandomForestClassifier(random_state=2023, n_jobs=-1)\n",
    "\n",
    "params = {\n",
    "    'n_estimators': np.arange(start=100, stop=1100, step=100),\n",
    "    'max_features': [None, \"sqrt\"],\n",
    "    'bootstrap': [True, False],\n",
    "    'max_samples': [None, .3, .5, .9],\n",
    "    'max_depth': np.arange(start=1, stop=11, step=1),\n",
    "    'min_samples_leaf': [2, 5, 10, 20, 100],\n",
    "}\n",
    "\n",
    "grid = RandomizedSearchCV(\n",
    "    rf, \n",
    "    params,\n",
    "    n_iter=100,\n",
    "    scoring=\"accuracy\"\n",
    ")\n",
    "\n",
    "grid.fit(X_train, y_train)\n",
    "\n",
    "grid.best_params_"
   ]
  },
  {
   "cell_type": "code",
   "execution_count": 13,
   "id": "355b0ba5",
   "metadata": {},
   "outputs": [
    {
     "data": {
      "text/plain": [
       "{'bootstrap': True,\n",
       " 'max_depth': 9,\n",
       " 'max_features': None,\n",
       " 'max_samples': 0.8,\n",
       " 'min_samples_leaf': 2,\n",
       " 'n_estimators': 160}"
      ]
     },
     "execution_count": 13,
     "metadata": {},
     "output_type": "execute_result"
    }
   ],
   "source": [
    "from sklearn.model_selection import GridSearchCV\n",
    "import numpy as np\n",
    "\n",
    "\n",
    "rf = RandomForestClassifier(random_state=2023, n_jobs=-1)\n",
    "\n",
    "\n",
    "params = {\n",
    "    'n_estimators': np.arange(start=150, stop=250, step=10),\n",
    "    'bootstrap': [True],\n",
    "    'max_features': [None, \"sqrt\"],\n",
    "    'max_samples': [.8, .9, .95],\n",
    "    'max_depth': [9],\n",
    "    'min_samples_leaf': [2, 3, 4]    \n",
    "}\n",
    "\n",
    "grid = GridSearchCV(\n",
    "    rf, \n",
    "    params,\n",
    "    scoring=\"accuracy\"\n",
    ")\n",
    "\n",
    "grid.fit(X_train, y_train)\n",
    "\n",
    "grid.best_params_"
   ]
  },
  {
   "cell_type": "code",
   "execution_count": 14,
   "id": "3373ed57",
   "metadata": {},
   "outputs": [
    {
     "name": "stdout",
     "output_type": "stream",
     "text": [
      "Training Accuracy: 0.8697030335642698\n",
      "Test Accuracy: 0.8680634963341629\n"
     ]
    }
   ],
   "source": [
    "rf = RandomForestClassifier(random_state=2023, n_jobs=-1, **grid.best_params_)\n",
    "\n",
    "rf.fit(X_train, y_train)\n",
    "\n",
    "print(f\"Training Accuracy: {rf.score(X_train, y_train)}\")\n",
    "print(f\"Test Accuracy: {rf.score(X_test, y_test)}\")"
   ]
  },
  {
   "cell_type": "code",
   "execution_count": 15,
   "id": "04dd1f11",
   "metadata": {},
   "outputs": [
    {
     "name": "stdout",
     "output_type": "stream",
     "text": [
      "Training Accuracy: 0.8665921167686823\n",
      "Test Accuracy: 0.8667518665500773\n"
     ]
    }
   ],
   "source": [
    "from sklearn.ensemble import GradientBoostingClassifier\n",
    "\n",
    "gbm = GradientBoostingClassifier(random_state=2023)\n",
    "\n",
    "gbm.fit(X_train, y_train)\n",
    "\n",
    "print(f\"Training Accuracy: {gbm.score(X_train, y_train)}\")\n",
    "print(f\"Test Accuracy: {gbm.score(X_test, y_test)}\")"
   ]
  },
  {
   "cell_type": "code",
   "execution_count": 16,
   "id": "40d75b3a",
   "metadata": {},
   "outputs": [
    {
     "data": {
      "image/png": "[encoded data removed]",
      "text/plain": [
       "<Figure size 640x480 with 1 Axes>"
      ]
     },
     "metadata": {},
     "output_type": "display_data"
    }
   ],
   "source": [
    "import seaborn as sns\n",
    "\n",
    "sns.barplot(x=gbm.feature_importances_, y=X.columns, color=\"blue\");"
   ]
  },
  {
   "cell_type": "code",
   "execution_count": 17,
   "id": "0bec2c17",
   "metadata": {},
   "outputs": [
    {
     "name": "stderr",
     "output_type": "stream",
     "text": [
      "\n",
      "KeyboardInterrupt\n",
      "\n"
     ]
    }
   ],
   "source": [
    "import numpy as np\n",
    "\n",
    "from sklearn.model_selection import RandomizedSearchCV\n",
    "      \n",
    "gb = GradientBoostingClassifier(random_state=2023)\n",
    "\n",
    "params = {\n",
    "    'n_estimators': [20, 40, 60, 80, 100, 200],\n",
    "    'learning_rate': [.01, .1],\n",
    "    'max_features': [\"sqrt\"],\n",
    "    'subsample': [.8, .9, .95],\n",
    "    'max_depth': np.arange(start=3, stop=12, step=2),\n",
    "    'min_samples_leaf': [2, 5, 10]    \n",
    "}\n",
    "\n",
    "grid = RandomizedSearchCV(\n",
    "    gb, \n",
    "    params,\n",
    "    n_iter=100,\n",
    "    scoring=\"accuracy\"\n",
    ")\n",
    "\n",
    "grid.fit(X_train, y_train)\n",
    "\n",
    "grid.best_params_"
   ]
  },
  {
   "cell_type": "code",
   "execution_count": null,
   "id": "ce4c6359",
   "metadata": {},
   "outputs": [],
   "source": [
    "grid.score(X_train, y_train)"
   ]
  },
  {
   "cell_type": "code",
   "execution_count": null,
   "id": "58cba4e9",
   "metadata": {},
   "outputs": [],
   "source": [
    "grid.score(X_test, y_test)"
   ]
  },
  {
   "cell_type": "code",
   "execution_count": null,
   "id": "0eec179d",
   "metadata": {},
   "outputs": [],
   "source": [
    "import numpy as np\n",
    "\n",
    "from sklearn.model_selection import GridSearchCV\n",
    "      \n",
    "gb = GradientBoostingClassifier(random_state=2023)\n",
    "\n",
    "params = {\n",
    "    'n_estimators': [50, 60, 70],\n",
    "    'learning_rate': [.1],\n",
    "    'max_features': [\"sqrt\"],\n",
    "    'subsample': [.8],\n",
    "    'max_depth': [9],\n",
    "    'min_samples_leaf': [10]    \n",
    "}\n",
    "\n",
    "grid = GridSearchCV(\n",
    "    gb, \n",
    "    params,\n",
    "    scoring=\"accuracy\"\n",
    ")\n",
    "\n",
    "grid.fit(X_train, y_train)\n",
    "\n",
    "grid.best_params_"
   ]
  },
  {
   "cell_type": "code",
   "execution_count": null,
   "id": "c6b248e3",
   "metadata": {},
   "outputs": [],
   "source": [
    "from sklearn.ensemble import GradientBoostingClassifier\n",
    "\n",
    "gbm = GradientBoostingClassifier(random_state=2023, **grid.best_params_)\n",
    "\n",
    "gbm.fit(X_train, y_train)\n",
    "\n",
    "print(f\"Training Accuracy: {gbm.score(X_train, y_train)}\")\n",
    "print(f\"Test Accuracy: {gbm.score(X_test, y_test)}\")"
   ]
  },
  {
   "cell_type": "code",
   "execution_count": null,
   "id": "de3cce2f",
   "metadata": {},
   "outputs": [],
   "source": [
    "from sklearn.metrics import confusion_matrix\n",
    "\n",
    "confusion_matrix(y_test, gbm.predict(X_test))"
   ]
  },
  {
   "cell_type": "code",
   "execution_count": null,
   "id": "b2df3d0a",
   "metadata": {},
   "outputs": [],
   "source": [
    "importance_df = (\n",
    "    pd.DataFrame({\"Feature\": X_train.columns, \"Importance\": gbm.feature_importances_})\n",
    "    .sort_values(\"Importance\", ascending=False)\n",
    ")\n",
    "\n",
    "sns.barplot(importance_df, x=\"Importance\", y=\"Feature\" )"
   ]
  },
  {
   "cell_type": "code",
   "execution_count": null,
   "id": "69d61181",
   "metadata": {},
   "outputs": [],
   "source": [
    "#!conda install shap --y"
   ]
  },
  {
   "cell_type": "code",
   "execution_count": null,
   "id": "d5fae7b4",
   "metadata": {},
   "outputs": [],
   "source": [
    "for col in X_test.select_dtypes(\"bool\"):\n",
    "    X_test[col] = X_test[col].astype(\"int\")\n",
    "\n",
    "X_test"
   ]
  },
  {
   "cell_type": "code",
   "execution_count": null,
   "id": "c50fdc1a",
   "metadata": {},
   "outputs": [],
   "source": [
    "import shap\n",
    "\n",
    "explainer = shap.Explainer(gbm)\n",
    "\n",
    "shap_values = explainer.shap_values(X_test.sample(50, random_state=12345))"
   ]
  },
  {
   "cell_type": "code",
   "execution_count": null,
   "id": "6d4a9a61",
   "metadata": {},
   "outputs": [],
   "source": [
    "shap_values"
   ]
  },
  {
   "cell_type": "code",
   "execution_count": null,
   "id": "12429689",
   "metadata": {},
   "outputs": [],
   "source": [
    "shap.plots.beeswarm(shap_values)"
   ]
  },
  {
   "cell_type": "code",
   "execution_count": null,
   "id": "3c480bab",
   "metadata": {},
   "outputs": [],
   "source": [
    "X_test.sample(50, random_state=12345).iloc[1]"
   ]
  },
  {
   "cell_type": "code",
   "execution_count": null,
   "id": "f33a321a",
   "metadata": {},
   "outputs": [],
   "source": [
    "shap.plots.waterfall(shap_values[1])"
   ]
  },
  {
   "cell_type": "code",
   "execution_count": null,
   "id": "036301a2",
   "metadata": {
    "scrolled": true
   },
   "outputs": [],
   "source": [
    "shap.plots.scatter(\n",
    "    shap_values[:, 0], # plot income in X\n",
    "    color=shap_values[:, 1] # color by age\n",
    ")"
   ]
  }
 ],
 "metadata": {
  "kernelspec": {
   "display_name": "Python 3 (ipykernel)",
   "language": "python",
   "name": "python3"
  },
  "language_info": {
   "codemirror_mode": {
    "name": "ipython",
    "version": 3
   },
   "file_extension": ".py",
   "mimetype": "text/x-python",
   "name": "python",
   "nbconvert_exporter": "python",
   "pygments_lexer": "ipython3",
   "version": "3.11.5"
  }
 },
 "nbformat": 4,
 "nbformat_minor": 5
}
