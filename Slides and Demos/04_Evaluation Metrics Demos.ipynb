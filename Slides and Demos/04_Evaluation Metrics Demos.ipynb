{
 "cells": [
  {
   "cell_type": "code",
   "execution_count": 2,
   "id": "3adc5c8b",
   "metadata": {},
   "outputs": [],
   "source": [
    "import pandas as pd\n",
    "import numpy as np\n",
    "import seaborn as sns\n",
    "import matplotlib.pyplot as plt\n",
    "\n",
    "\n",
    "loan_df = pd.read_csv(\"../Data/Loan_Default.csv\")"
   ]
  },
  {
   "cell_type": "code",
   "execution_count": 3,
   "id": "33284b96",
   "metadata": {},
   "outputs": [
    {
     "data": {
      "text/html": [
       "<div>\n",
       "<style scoped>\n",
       "    .dataframe tbody tr th:only-of-type {\n",
       "        vertical-align: middle;\n",
       "    }\n",
       "\n",
       "    .dataframe tbody tr th {\n",
       "        vertical-align: top;\n",
       "    }\n",
       "\n",
       "    .dataframe thead th {\n",
       "        text-align: right;\n",
       "    }\n",
       "</style>\n",
       "<table border=\"1\" class=\"dataframe\">\n",
       "  <thead>\n",
       "    <tr style=\"text-align: right;\">\n",
       "      <th></th>\n",
       "      <th>ID</th>\n",
       "      <th>year</th>\n",
       "      <th>loan_limit</th>\n",
       "      <th>Gender</th>\n",
       "      <th>approv_in_adv</th>\n",
       "      <th>loan_type</th>\n",
       "      <th>loan_purpose</th>\n",
       "      <th>Credit_Worthiness</th>\n",
       "      <th>open_credit</th>\n",
       "      <th>business_or_commercial</th>\n",
       "      <th>...</th>\n",
       "      <th>Credit_Score</th>\n",
       "      <th>co-applicant_credit_type</th>\n",
       "      <th>age</th>\n",
       "      <th>submission_of_application</th>\n",
       "      <th>LTV</th>\n",
       "      <th>Region</th>\n",
       "      <th>Security_Type</th>\n",
       "      <th>Status</th>\n",
       "      <th>dtir1</th>\n",
       "      <th>loan_amt_v_income</th>\n",
       "    </tr>\n",
       "  </thead>\n",
       "  <tbody>\n",
       "    <tr>\n",
       "      <th>0</th>\n",
       "      <td>24890</td>\n",
       "      <td>2019</td>\n",
       "      <td>cf</td>\n",
       "      <td>Sex Not Available</td>\n",
       "      <td>nopre</td>\n",
       "      <td>type1</td>\n",
       "      <td>p1</td>\n",
       "      <td>l1</td>\n",
       "      <td>nopc</td>\n",
       "      <td>nob/c</td>\n",
       "      <td>...</td>\n",
       "      <td>758</td>\n",
       "      <td>CIB</td>\n",
       "      <td>25-34</td>\n",
       "      <td>to_inst</td>\n",
       "      <td>98.728814</td>\n",
       "      <td>south</td>\n",
       "      <td>direct</td>\n",
       "      <td>1</td>\n",
       "      <td>45.0</td>\n",
       "      <td>66.954023</td>\n",
       "    </tr>\n",
       "    <tr>\n",
       "      <th>1</th>\n",
       "      <td>24891</td>\n",
       "      <td>2019</td>\n",
       "      <td>cf</td>\n",
       "      <td>Male</td>\n",
       "      <td>nopre</td>\n",
       "      <td>type2</td>\n",
       "      <td>p1</td>\n",
       "      <td>l1</td>\n",
       "      <td>nopc</td>\n",
       "      <td>b/c</td>\n",
       "      <td>...</td>\n",
       "      <td>552</td>\n",
       "      <td>EXP</td>\n",
       "      <td>55-64</td>\n",
       "      <td>to_inst</td>\n",
       "      <td>NaN</td>\n",
       "      <td>North</td>\n",
       "      <td>direct</td>\n",
       "      <td>1</td>\n",
       "      <td>NaN</td>\n",
       "      <td>41.465863</td>\n",
       "    </tr>\n",
       "    <tr>\n",
       "      <th>2</th>\n",
       "      <td>24892</td>\n",
       "      <td>2019</td>\n",
       "      <td>cf</td>\n",
       "      <td>Male</td>\n",
       "      <td>pre</td>\n",
       "      <td>type1</td>\n",
       "      <td>p1</td>\n",
       "      <td>l1</td>\n",
       "      <td>nopc</td>\n",
       "      <td>nob/c</td>\n",
       "      <td>...</td>\n",
       "      <td>834</td>\n",
       "      <td>CIB</td>\n",
       "      <td>35-44</td>\n",
       "      <td>to_inst</td>\n",
       "      <td>80.019685</td>\n",
       "      <td>south</td>\n",
       "      <td>direct</td>\n",
       "      <td>0</td>\n",
       "      <td>46.0</td>\n",
       "      <td>42.879747</td>\n",
       "    </tr>\n",
       "    <tr>\n",
       "      <th>3</th>\n",
       "      <td>24893</td>\n",
       "      <td>2019</td>\n",
       "      <td>cf</td>\n",
       "      <td>Male</td>\n",
       "      <td>nopre</td>\n",
       "      <td>type1</td>\n",
       "      <td>p4</td>\n",
       "      <td>l1</td>\n",
       "      <td>nopc</td>\n",
       "      <td>nob/c</td>\n",
       "      <td>...</td>\n",
       "      <td>587</td>\n",
       "      <td>CIB</td>\n",
       "      <td>45-54</td>\n",
       "      <td>not_inst</td>\n",
       "      <td>69.376900</td>\n",
       "      <td>North</td>\n",
       "      <td>direct</td>\n",
       "      <td>0</td>\n",
       "      <td>42.0</td>\n",
       "      <td>38.425926</td>\n",
       "    </tr>\n",
       "    <tr>\n",
       "      <th>4</th>\n",
       "      <td>24894</td>\n",
       "      <td>2019</td>\n",
       "      <td>cf</td>\n",
       "      <td>Joint</td>\n",
       "      <td>pre</td>\n",
       "      <td>type1</td>\n",
       "      <td>p1</td>\n",
       "      <td>l1</td>\n",
       "      <td>nopc</td>\n",
       "      <td>nob/c</td>\n",
       "      <td>...</td>\n",
       "      <td>602</td>\n",
       "      <td>EXP</td>\n",
       "      <td>25-34</td>\n",
       "      <td>not_inst</td>\n",
       "      <td>91.886544</td>\n",
       "      <td>North</td>\n",
       "      <td>direct</td>\n",
       "      <td>0</td>\n",
       "      <td>39.0</td>\n",
       "      <td>66.714559</td>\n",
       "    </tr>\n",
       "  </tbody>\n",
       "</table>\n",
       "<p>5 rows × 35 columns</p>\n",
       "</div>"
      ],
      "text/plain": [
       "      ID  year loan_limit             Gender approv_in_adv loan_type  \\\n",
       "0  24890  2019         cf  Sex Not Available         nopre     type1   \n",
       "1  24891  2019         cf               Male         nopre     type2   \n",
       "2  24892  2019         cf               Male           pre     type1   \n",
       "3  24893  2019         cf               Male         nopre     type1   \n",
       "4  24894  2019         cf              Joint           pre     type1   \n",
       "\n",
       "  loan_purpose Credit_Worthiness open_credit business_or_commercial  ...  \\\n",
       "0           p1                l1        nopc                  nob/c  ...   \n",
       "1           p1                l1        nopc                    b/c  ...   \n",
       "2           p1                l1        nopc                  nob/c  ...   \n",
       "3           p4                l1        nopc                  nob/c  ...   \n",
       "4           p1                l1        nopc                  nob/c  ...   \n",
       "\n",
       "   Credit_Score  co-applicant_credit_type    age  submission_of_application  \\\n",
       "0           758                       CIB  25-34                    to_inst   \n",
       "1           552                       EXP  55-64                    to_inst   \n",
       "2           834                       CIB  35-44                    to_inst   \n",
       "3           587                       CIB  45-54                   not_inst   \n",
       "4           602                       EXP  25-34                   not_inst   \n",
       "\n",
       "         LTV Region Security_Type Status  dtir1 loan_amt_v_income  \n",
       "0  98.728814  south        direct      1   45.0         66.954023  \n",
       "1        NaN  North        direct      1    NaN         41.465863  \n",
       "2  80.019685  south        direct      0   46.0         42.879747  \n",
       "3  69.376900  North        direct      0   42.0         38.425926  \n",
       "4  91.886544  North        direct      0   39.0         66.714559  \n",
       "\n",
       "[5 rows x 35 columns]"
      ]
     },
     "execution_count": 3,
     "metadata": {},
     "output_type": "execute_result"
    }
   ],
   "source": [
    "loan_df[\"income\"] = loan_df[\"income\"].fillna(loan_df[\"income\"].mean())\n",
    "loan_df[\"loan_amount\"] = loan_df[\"loan_amount\"].fillna(loan_df[\"loan_amount\"].mean())\n",
    "loan_df[\"rate_of_interest\"] = loan_df[\"rate_of_interest\"].fillna(loan_df[\"rate_of_interest\"].mean())\n",
    "loan_df[\"approv_in_adv\"] = loan_df[\"approv_in_adv\"].fillna(loan_df[\"approv_in_adv\"].mode())\n",
    "\n",
    "\n",
    "\n",
    "loan_df = loan_df.assign(\n",
    "    total_units = loan_df[\"total_units\"].map({\n",
    "        \"1U\": \"1U\",\n",
    "        \"2U\": \"2U+\",\n",
    "        \"3U\": \"2U+\",\n",
    "        \"4U\": \"2U+\"}),\n",
    "    loan_amt_v_income = loan_df[\"loan_amount\"]/loan_df[\"income\"]\n",
    ")\n",
    "\n",
    "loan_df.head()"
   ]
  },
  {
   "cell_type": "code",
   "execution_count": 4,
   "id": "b93bf200",
   "metadata": {},
   "outputs": [
    {
     "name": "stdout",
     "output_type": "stream",
     "text": [
      "<class 'pandas.core.frame.DataFrame'>\n",
      "RangeIndex: 148670 entries, 0 to 148669\n",
      "Data columns (total 29 columns):\n",
      " #   Column                     Non-Null Count   Dtype  \n",
      "---  ------                     --------------   -----  \n",
      " 0   loan_limit                 145326 non-null  object \n",
      " 1   Gender                     148670 non-null  object \n",
      " 2   approv_in_adv              147762 non-null  object \n",
      " 3   loan_type                  148670 non-null  object \n",
      " 4   loan_purpose               148536 non-null  object \n",
      " 5   Credit_Worthiness          148670 non-null  object \n",
      " 6   business_or_commercial     148670 non-null  object \n",
      " 7   loan_amount                148670 non-null  int64  \n",
      " 8   rate_of_interest           148670 non-null  float64\n",
      " 9   Interest_rate_spread       112031 non-null  float64\n",
      " 10  Upfront_charges            109028 non-null  float64\n",
      " 11  term                       148629 non-null  float64\n",
      " 12  Neg_ammortization          148549 non-null  object \n",
      " 13  interest_only              148670 non-null  object \n",
      " 14  lump_sum_payment           148670 non-null  object \n",
      " 15  property_value             133572 non-null  float64\n",
      " 16  occupancy_type             148670 non-null  object \n",
      " 17  total_units                148670 non-null  object \n",
      " 18  income                     148670 non-null  float64\n",
      " 19  credit_type                148670 non-null  object \n",
      " 20  Credit_Score               148670 non-null  int64  \n",
      " 21  co-applicant_credit_type   148670 non-null  object \n",
      " 22  age                        148470 non-null  object \n",
      " 23  submission_of_application  148470 non-null  object \n",
      " 24  LTV                        133572 non-null  float64\n",
      " 25  Region                     148670 non-null  object \n",
      " 26  Status                     148670 non-null  int64  \n",
      " 27  dtir1                      124549 non-null  float64\n",
      " 28  loan_amt_v_income          148670 non-null  float64\n",
      "dtypes: float64(9), int64(3), object(17)\n",
      "memory usage: 32.9+ MB\n"
     ]
    }
   ],
   "source": [
    "prep_loan_df = loan_df.drop([\n",
    "    \"year\", \n",
    "     \"ID\", \n",
    "     \"open_credit\", \n",
    "    \"construction_type\", \n",
    "    \"Security_Type\", \n",
    "    \"Secured_by\"], \n",
    "    axis=1\n",
    ")\n",
    "\n",
    "prep_loan_df.info()"
   ]
  },
  {
   "cell_type": "code",
   "execution_count": 5,
   "id": "8fe99037",
   "metadata": {},
   "outputs": [],
   "source": [
    "from sklearn.model_selection import train_test_split\n",
    "\n",
    "features = [\n",
    "    \"loan_amount\", \n",
    "    \"income\", \n",
    "    \"Gender\",\n",
    "    \"rate_of_interest\",\n",
    "    \"age\",\n",
    "    \"lump_sum_payment\",\n",
    "    \"credit_type\",\n",
    "    \"total_units\",\n",
    "    \"Credit_Worthiness\",\n",
    "    \"Credit_Score\",\n",
    "    \"approv_in_adv\", \n",
    "\n",
    "]\n",
    "\n",
    "X = pd.get_dummies(prep_loan_df[features], drop_first=True)\n",
    "y = prep_loan_df[\"Status\"]\n",
    "\n",
    "X_train, X_test, y_train, y_test = train_test_split(X, y, test_size=.2, random_state=12345)"
   ]
  },
  {
   "cell_type": "code",
   "execution_count": 6,
   "id": "1af78207",
   "metadata": {},
   "outputs": [
    {
     "name": "stderr",
     "output_type": "stream",
     "text": [
      "c:\\Users\\Jeffr\\AppData\\Local\\Programs\\Python\\Python311\\Lib\\site-packages\\sklearn\\linear_model\\_logistic.py:469: ConvergenceWarning: lbfgs failed to converge (status=1):\n",
      "STOP: TOTAL NO. of ITERATIONS REACHED LIMIT.\n",
      "\n",
      "Increase the number of iterations (max_iter) or scale the data as shown in:\n",
      "    https://scikit-learn.org/stable/modules/preprocessing.html\n",
      "Please also refer to the documentation for alternative solver options:\n",
      "    https://scikit-learn.org/stable/modules/linear_model.html#logistic-regression\n",
      "  n_iter_i = _check_optimize_result(\n"
     ]
    }
   ],
   "source": [
    "from sklearn.linear_model import LogisticRegression\n",
    "\n",
    "lr = LogisticRegression()\n",
    "lr = lr.fit(X_train, y_train)"
   ]
  },
  {
   "cell_type": "code",
   "execution_count": 7,
   "id": "785b26bf",
   "metadata": {},
   "outputs": [
    {
     "data": {
      "text/plain": [
       "0.8570323535346741"
      ]
     },
     "execution_count": 7,
     "metadata": {},
     "output_type": "execute_result"
    }
   ],
   "source": [
    "lr.score(X_test, y_test)"
   ]
  },
  {
   "cell_type": "code",
   "execution_count": 8,
   "id": "5eacbe13",
   "metadata": {},
   "outputs": [
    {
     "data": {
      "text/plain": [
       "0.8570323535346741"
      ]
     },
     "execution_count": 8,
     "metadata": {},
     "output_type": "execute_result"
    }
   ],
   "source": [
    "from sklearn.metrics import accuracy_score\n",
    "\n",
    "accuracy_score(y_test, lr.predict(X_test))"
   ]
  },
  {
   "cell_type": "code",
   "execution_count": 9,
   "id": "86250a95",
   "metadata": {},
   "outputs": [
    {
     "data": {
      "text/plain": [
       "array([[22338,     7],\n",
       "       [ 4244,  3145]], dtype=int64)"
      ]
     },
     "execution_count": 9,
     "metadata": {},
     "output_type": "execute_result"
    }
   ],
   "source": [
    "from sklearn.metrics import confusion_matrix, precision_score, recall_score, f1_score\n",
    "\n",
    "confusion_matrix(y_test, lr.predict(X_test))"
   ]
  },
  {
   "cell_type": "code",
   "execution_count": 10,
   "id": "e3d6fc49",
   "metadata": {},
   "outputs": [],
   "source": [
    "import numpy as np\n",
    "\n",
    "actual_y = np.array([0, 1, 0, 1, 0, 1, 0, 0 , 1, 1, 1, 1, 0, 0 , 1, 1, 0, 1])\n",
    "predicted_y = np.array([0, 1, 0, 0, 1, 1, 0, 1, 1, 0, 0, 1, 0, 0, 1, 0, 1, 1])\n",
    "\n",
    "cm = confusion_matrix(actual_y, predicted_y)"
   ]
  },
  {
   "cell_type": "code",
   "execution_count": 11,
   "id": "ebb7df01",
   "metadata": {},
   "outputs": [
    {
     "data": {
      "text/plain": [
       "0.9977791878172588"
      ]
     },
     "execution_count": 11,
     "metadata": {},
     "output_type": "execute_result"
    }
   ],
   "source": [
    "precision_score(y_test, lr.predict(X_test))"
   ]
  },
  {
   "cell_type": "code",
   "execution_count": 12,
   "id": "d55ddc24",
   "metadata": {},
   "outputs": [
    {
     "data": {
      "text/plain": [
       "0.4256326972526729"
      ]
     },
     "execution_count": 12,
     "metadata": {},
     "output_type": "execute_result"
    }
   ],
   "source": [
    "recall_score(y_test, lr.predict(X_test))"
   ]
  },
  {
   "cell_type": "code",
   "execution_count": 13,
   "id": "df3ba7c2",
   "metadata": {},
   "outputs": [
    {
     "data": {
      "text/plain": [
       "0.5967175789773266"
      ]
     },
     "execution_count": 13,
     "metadata": {},
     "output_type": "execute_result"
    }
   ],
   "source": [
    "f1_score(y_test, lr.predict(X_test))"
   ]
  },
  {
   "cell_type": "code",
   "execution_count": 14,
   "id": "632ed8f8",
   "metadata": {},
   "outputs": [],
   "source": [
    "from sklearn.preprocessing import StandardScaler\n",
    "\n",
    "std = StandardScaler()\n",
    "\n",
    "X_train_std = std.fit_transform(X_train)\n",
    "X_test_std = std.transform(X_test)"
   ]
  },
  {
   "cell_type": "code",
   "execution_count": 15,
   "id": "de042033",
   "metadata": {},
   "outputs": [
    {
     "name": "stdout",
     "output_type": "stream",
     "text": [
      "Train Accuracy: 0.8607654536893792\n",
      "Test Accuracy: 0.8621443465393153\n"
     ]
    }
   ],
   "source": [
    "from sklearn.linear_model import LogisticRegression\n",
    "\n",
    "logreg = LogisticRegression(C=.6, penalty=\"l1\", solver=\"saga\", max_iter=1000) \n",
    "\n",
    "lr_reg = logreg.fit(X_train_std, y_train)\n",
    "\n",
    "print(f\"Train Accuracy: {lr_reg.score(X_train_std, y_train)}\")\n",
    "print(f\"Test Accuracy: {lr_reg.score(X_test_std, y_test)}\")"
   ]
  },
  {
   "cell_type": "code",
   "execution_count": 16,
   "id": "3c31613b",
   "metadata": {},
   "outputs": [
    {
     "data": {
      "text/plain": [
       "array([[22207,   138],\n",
       "       [ 3961,  3428]], dtype=int64)"
      ]
     },
     "execution_count": 16,
     "metadata": {},
     "output_type": "execute_result"
    }
   ],
   "source": [
    "confusion_matrix(y_test, lr_reg.predict(X_test_std))"
   ]
  },
  {
   "cell_type": "code",
   "execution_count": 17,
   "id": "ccfc8966",
   "metadata": {},
   "outputs": [
    {
     "data": {
      "text/plain": [
       "0.9613011777902412"
      ]
     },
     "execution_count": 17,
     "metadata": {},
     "output_type": "execute_result"
    }
   ],
   "source": [
    "precision_score(y_test, lr_reg.predict(X_test_std))"
   ]
  },
  {
   "cell_type": "code",
   "execution_count": 18,
   "id": "80d3dd4d",
   "metadata": {},
   "outputs": [
    {
     "data": {
      "text/plain": [
       "0.46393287318987686"
      ]
     },
     "execution_count": 18,
     "metadata": {},
     "output_type": "execute_result"
    }
   ],
   "source": [
    "recall_score(y_test, lr_reg.predict(X_test_std))"
   ]
  },
  {
   "cell_type": "code",
   "execution_count": 19,
   "id": "8533df30",
   "metadata": {},
   "outputs": [
    {
     "data": {
      "text/plain": [
       "0.6258329529895025"
      ]
     },
     "execution_count": 19,
     "metadata": {},
     "output_type": "execute_result"
    }
   ],
   "source": [
    "f1_score(y_test, lr_reg.predict(X_test_std))"
   ]
  },
  {
   "cell_type": "code",
   "execution_count": 20,
   "id": "084788bf",
   "metadata": {},
   "outputs": [
    {
     "data": {
      "text/plain": [
       "array([False, False, False, ..., False, False,  True])"
      ]
     },
     "execution_count": 20,
     "metadata": {},
     "output_type": "execute_result"
    }
   ],
   "source": [
    "lr_reg.predict_proba(X_test_std)[:, 1] > .25"
   ]
  },
  {
   "cell_type": "code",
   "execution_count": 21,
   "id": "ea356364",
   "metadata": {},
   "outputs": [
    {
     "data": {
      "text/plain": [
       "array([[ 3275, 19070],\n",
       "       [  311,  7078]], dtype=int64)"
      ]
     },
     "execution_count": 21,
     "metadata": {},
     "output_type": "execute_result"
    }
   ],
   "source": [
    "confusion_matrix(y_test, lr_reg.predict_proba(X_test_std)[:, 1] > .1)"
   ]
  },
  {
   "cell_type": "code",
   "execution_count": 22,
   "id": "08236b67",
   "metadata": {},
   "outputs": [
    {
     "data": {
      "text/plain": [
       "0.2706899189230534"
      ]
     },
     "execution_count": 22,
     "metadata": {},
     "output_type": "execute_result"
    }
   ],
   "source": [
    "precision_score(y_test, lr_reg.predict_proba(X_test_std)[:, 1] > .1)"
   ]
  },
  {
   "cell_type": "code",
   "execution_count": 23,
   "id": "9c9d991c",
   "metadata": {},
   "outputs": [
    {
     "data": {
      "text/plain": [
       "0.9579104073622953"
      ]
     },
     "execution_count": 23,
     "metadata": {},
     "output_type": "execute_result"
    }
   ],
   "source": [
    "recall_score(y_test, lr_reg.predict_proba(X_test_std)[:, 1] > .1)"
   ]
  },
  {
   "cell_type": "code",
   "execution_count": 24,
   "id": "f9761af6",
   "metadata": {},
   "outputs": [
    {
     "data": {
      "image/png": "[encoded data removed]",
      "text/plain": [
       "<Figure size 640x480 with 1 Axes>"
      ]
     },
     "metadata": {},
     "output_type": "display_data"
    }
   ],
   "source": [
    "from sklearn.metrics import precision_recall_curve\n",
    "import matplotlib.pyplot as plt\n",
    "\n",
    "p_curve, r_curve, t_curve = precision_recall_curve(y_test, lr_reg.predict_proba(X_test_std)[:,1])\n",
    "\n",
    "plt.plot(t_curve, p_curve[:-1], label='Precision')\n",
    "plt.plot(t_curve, r_curve[:-1], label='Recall')\n",
    "plt.xlabel('Prediction Threshold')\n",
    "plt.ylabel('Scores')\n",
    "plt.legend()\n",
    "plt.title('Precision-Recall Curve')\n",
    "# plt.grid(True)\n",
    "plt.show()"
   ]
  },
  {
   "cell_type": "code",
   "execution_count": 25,
   "id": "4577360a",
   "metadata": {},
   "outputs": [
    {
     "data": {
      "image/png": "[encoded data removed]",
      "text/plain": [
       "<Figure size 600x600 with 1 Axes>"
      ]
     },
     "metadata": {},
     "output_type": "display_data"
    }
   ],
   "source": [
    "fig, ax = plt.subplots(figsize=(6,6))\n",
    "ax.plot(r_curve, p_curve, label='Logistic Regression')\n",
    "baseline = len(y_test[y_test==1]) / len(y_test)\n",
    "ax.plot([0, 1], [baseline, baseline], linestyle='--', label='Baseline')\n",
    "ax.set_xlabel('Recall')\n",
    "ax.set_ylabel('Precision')\n",
    "ax.legend(loc='center left');"
   ]
  },
  {
   "cell_type": "code",
   "execution_count": 30,
   "id": "5ab3236a",
   "metadata": {},
   "outputs": [
    {
     "data": {
      "image/png": "[encoded data removed]",
      "text/plain": [
       "<Figure size 640x480 with 1 Axes>"
      ]
     },
     "metadata": {},
     "output_type": "display_data"
    }
   ],
   "source": [
    "import matplotlib.pyplot as plt\n",
    "import seaborn as sns\n",
    "import numpy as np\n",
    "from sklearn.metrics import f1_score\n",
    "\n",
    "# Assuming lr_reg is your logistic regression model, X_test_std is your standardized test features, and y_test are the true labels\n",
    "f1 = []\n",
    "thresholds = np.linspace(0, 1, 100)\n",
    "\n",
    "for thresh in thresholds:\n",
    "    y_pred = (lr_reg.predict_proba(X_test_std)[:, 1] > thresh)\n",
    "    f1.append(f1_score(y_test, y_pred))\n",
    "    \n",
    "# Plotting\n",
    "sns.lineplot(x=thresholds, y=f1)\n",
    "\n",
    "# Adding title and labels\n",
    "plt.title('F1 Score by Threshold')\n",
    "plt.xlabel('Threshold')\n",
    "plt.ylabel('F1 Score')\n",
    "\n",
    "# Display the plot\n",
    "plt.show()"
   ]
  },
  {
   "cell_type": "code",
   "execution_count": 27,
   "id": "871472b1",
   "metadata": {},
   "outputs": [
    {
     "data": {
      "image/png": "[encoded data removed]",
      "text/plain": [
       "<Figure size 640x480 with 1 Axes>"
      ]
     },
     "metadata": {},
     "output_type": "display_data"
    }
   ],
   "source": [
    "from sklearn.metrics import roc_curve, auc\n",
    "\n",
    "logreg.fit(X_train_std, y_train)\n",
    "    \n",
    "# Predict probabilities for the positive class\n",
    "y_probs = logreg.predict_proba(X_train_std)[:, 1]\n",
    "\n",
    "# Calculate the ROC curve\n",
    "fpr, tpr, thresholds = roc_curve(y_train, y_probs)\n",
    "\n",
    "# Calculate the AUC (Area Under the Curve)\n",
    "auc_score = auc(fpr, tpr)\n",
    "\n",
    "# Plot the ROC curve\n",
    "plt.plot(fpr, tpr, label=f'Logistic Regression (AUC = {auc_score:.2f})')\n",
    "\n",
    "# Draw Random Guess\n",
    "plt.plot([0, 1], [0, 1], 'k--', label='Random Guess (AUC = 0.50)')\n",
    "\n",
    "# Modify Formatting\n",
    "plt.xlabel('False Positive Rate')\n",
    "plt.ylabel('True Positive Rate')\n",
    "plt.title('ROC Curves for Different Models')\n",
    "plt.legend()\n",
    "plt.show()\n"
   ]
  },
  {
   "cell_type": "code",
   "execution_count": 28,
   "id": "a451ad71",
   "metadata": {},
   "outputs": [
    {
     "data": {
      "text/html": [
       "<div>\n",
       "<style scoped>\n",
       "    .dataframe tbody tr th:only-of-type {\n",
       "        vertical-align: middle;\n",
       "    }\n",
       "\n",
       "    .dataframe tbody tr th {\n",
       "        vertical-align: top;\n",
       "    }\n",
       "\n",
       "    .dataframe thead th {\n",
       "        text-align: right;\n",
       "    }\n",
       "</style>\n",
       "<table border=\"1\" class=\"dataframe\">\n",
       "  <thead>\n",
       "    <tr style=\"text-align: right;\">\n",
       "      <th></th>\n",
       "      <th>TPR</th>\n",
       "      <th>FPR</th>\n",
       "      <th>Threshold</th>\n",
       "    </tr>\n",
       "  </thead>\n",
       "  <tbody>\n",
       "    <tr>\n",
       "      <th>0</th>\n",
       "      <td>0.00000</td>\n",
       "      <td>0.00000</td>\n",
       "      <td>inf</td>\n",
       "    </tr>\n",
       "    <tr>\n",
       "      <th>1</th>\n",
       "      <td>0.00003</td>\n",
       "      <td>0.00000</td>\n",
       "      <td>1.00000</td>\n",
       "    </tr>\n",
       "    <tr>\n",
       "      <th>2</th>\n",
       "      <td>0.33627</td>\n",
       "      <td>0.00000</td>\n",
       "      <td>0.99991</td>\n",
       "    </tr>\n",
       "    <tr>\n",
       "      <th>3</th>\n",
       "      <td>0.33627</td>\n",
       "      <td>0.00001</td>\n",
       "      <td>0.99991</td>\n",
       "    </tr>\n",
       "    <tr>\n",
       "      <th>4</th>\n",
       "      <td>0.41603</td>\n",
       "      <td>0.00001</td>\n",
       "      <td>0.87127</td>\n",
       "    </tr>\n",
       "    <tr>\n",
       "      <th>...</th>\n",
       "      <td>...</td>\n",
       "      <td>...</td>\n",
       "      <td>...</td>\n",
       "    </tr>\n",
       "    <tr>\n",
       "      <th>27112</th>\n",
       "      <td>0.99990</td>\n",
       "      <td>0.99991</td>\n",
       "      <td>0.00004</td>\n",
       "    </tr>\n",
       "    <tr>\n",
       "      <th>27113</th>\n",
       "      <td>0.99997</td>\n",
       "      <td>0.99991</td>\n",
       "      <td>0.00001</td>\n",
       "    </tr>\n",
       "    <tr>\n",
       "      <th>27114</th>\n",
       "      <td>0.99997</td>\n",
       "      <td>0.99994</td>\n",
       "      <td>0.00000</td>\n",
       "    </tr>\n",
       "    <tr>\n",
       "      <th>27115</th>\n",
       "      <td>1.00000</td>\n",
       "      <td>0.99994</td>\n",
       "      <td>0.00000</td>\n",
       "    </tr>\n",
       "    <tr>\n",
       "      <th>27116</th>\n",
       "      <td>1.00000</td>\n",
       "      <td>1.00000</td>\n",
       "      <td>0.00000</td>\n",
       "    </tr>\n",
       "  </tbody>\n",
       "</table>\n",
       "<p>27117 rows × 3 columns</p>\n",
       "</div>"
      ],
      "text/plain": [
       "           TPR      FPR  Threshold\n",
       "0      0.00000  0.00000        inf\n",
       "1      0.00003  0.00000    1.00000\n",
       "2      0.33627  0.00000    0.99991\n",
       "3      0.33627  0.00001    0.99991\n",
       "4      0.41603  0.00001    0.87127\n",
       "...        ...      ...        ...\n",
       "27112  0.99990  0.99991    0.00004\n",
       "27113  0.99997  0.99991    0.00001\n",
       "27114  0.99997  0.99994    0.00000\n",
       "27115  1.00000  0.99994    0.00000\n",
       "27116  1.00000  1.00000    0.00000\n",
       "\n",
       "[27117 rows x 3 columns]"
      ]
     },
     "execution_count": 28,
     "metadata": {},
     "output_type": "execute_result"
    }
   ],
   "source": [
    "pd.DataFrame({\"TPR\": tpr, \"FPR\": fpr, \"Threshold\": thresholds}).round(5)"
   ]
  },
  {
   "cell_type": "code",
   "execution_count": null,
   "id": "64544fdf",
   "metadata": {},
   "outputs": [],
   "source": []
  }
 ],
 "metadata": {
  "kernelspec": {
   "display_name": "Python 3 (ipykernel)",
   "language": "python",
   "name": "python3"
  },
  "language_info": {
   "codemirror_mode": {
    "name": "ipython",
    "version": 3
   },
   "file_extension": ".py",
   "mimetype": "text/x-python",
   "name": "python",
   "nbconvert_exporter": "python",
   "pygments_lexer": "ipython3",
   "version": "3.11.5"
  }
 },
 "nbformat": 4,
 "nbformat_minor": 5
}
